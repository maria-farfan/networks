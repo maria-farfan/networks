{
  "nbformat": 4,
  "nbformat_minor": 0,
  "metadata": {
    "colab": {
      "provenance": [],
      "toc_visible": true
    },
    "kernelspec": {
      "name": "python3",
      "display_name": "Python 3"
    },
    "language_info": {
      "name": "python"
    }
  },
  "cells": [
    {
      "cell_type": "markdown",
      "source": [
        "# Домашнее задание 1"
      ],
      "metadata": {
        "id": "yPQ7WMz5vzYI"
      }
    },
    {
      "cell_type": "code",
      "source": [
        "import numpy as np\n",
        "import matplotlib.pyplot as plt\n",
        "import networkx as nx \n",
        "%matplotlib inline\n",
        "import gdown\n",
        "import pandas as pd"
      ],
      "metadata": {
        "id": "-ypQtLTCv0pD"
      },
      "execution_count": null,
      "outputs": []
    },
    {
      "cell_type": "markdown",
      "source": [
        "Будем работать со следующими данными:"
      ],
      "metadata": {
        "id": "VThbrCw3x-Of"
      }
    },
    {
      "cell_type": "code",
      "source": [
        "!gdown --id 1OKwRSPXs212Mzttg4D0GFFkiap-GztP_"
      ],
      "metadata": {
        "colab": {
          "base_uri": "https://localhost:8080/"
        },
        "id": "y7HM1anix2Uq",
        "outputId": "6d0a86a1-0c2d-472a-c25c-e395a0617145"
      },
      "execution_count": null,
      "outputs": [
        {
          "output_type": "stream",
          "name": "stdout",
          "text": [
            "/usr/local/lib/python3.7/dist-packages/gdown/cli.py:131: FutureWarning: Option `--id` was deprecated in version 4.3.1 and will be removed in 5.0. You don't need to pass it anymore to use a file ID.\n",
            "  category=FutureWarning,\n",
            "Downloading...\n",
            "From: https://drive.google.com/uc?id=1OKwRSPXs212Mzttg4D0GFFkiap-GztP_\n",
            "To: /content/Wiki-Vote.txt\n",
            "100% 1.10M/1.10M [00:00<00:00, 81.4MB/s]\n"
          ]
        }
      ]
    },
    {
      "cell_type": "code",
      "source": [
        "G=nx.read_edgelist('Wiki-Vote.txt',create_using=nx.DiGraph())\n",
        "print('Nodes:',G.number_of_nodes()) # и выводим основные свойства\n",
        "print('Edges:',G.number_of_edges())\n",
        "print('Density:',nx.density(G))\n",
        "print('Reciprocity:', nx.reciprocity(G))"
      ],
      "metadata": {
        "colab": {
          "base_uri": "https://localhost:8080/"
        },
        "id": "gDlpQT08x9vM",
        "outputId": "598f0ad6-0ee9-450f-ff45-4e873b8b6aff"
      },
      "execution_count": null,
      "outputs": [
        {
          "output_type": "stream",
          "name": "stdout",
          "text": [
            "Nodes: 7115\n",
            "Edges: 103689\n",
            "Density: 0.0020485375110809584\n",
            "Reciprocity: 0.0564572905515532\n"
          ]
        }
      ]
    },
    {
      "cell_type": "markdown",
      "source": [
        "## 1. Структурно-сетевые свойства направленной сети "
      ],
      "metadata": {
        "id": "hnPGixMDvy9Q"
      }
    },
    {
      "cell_type": "markdown",
      "source": [
        "### 1. Распределение степеней \n",
        "Постройте распределение степеней (in, out). Какой статистике подчиняются распределения?"
      ],
      "metadata": {
        "id": "zrGVv6WKzCSc"
      }
    },
    {
      "cell_type": "markdown",
      "source": [
        "### 2. Ассортативность \n",
        "\n",
        "Вычислите ассортативность, результат представьте в ввиде матрицы, всего 4 значения для разных комбинаций in/out степеней."
      ],
      "metadata": {
        "id": "vvoGhbbjzXDT"
      }
    },
    {
      "cell_type": "markdown",
      "source": [
        "### 3. Связность\n",
        "Является ли сеть сильно/слабо связанной? Постройте распределение размеров сильно связанных компонент. Сколько вершин входит в компоненту наибольшего размера? "
      ],
      "metadata": {
        "id": "N35m_PcnzesC"
      }
    },
    {
      "cell_type": "markdown",
      "source": [
        "### 4. Кластеризация \n",
        "Вычислите транзитивность. Определите средний коэффициент кластеризации, не учитывая направлений в сети"
      ],
      "metadata": {
        "id": "59S1Hs7kzlQp"
      }
    },
    {
      "cell_type": "markdown",
      "source": [
        "## 2. Метрики центральности вершин в направленной сети "
      ],
      "metadata": {
        "id": "QGURdaG2wCtp"
      }
    },
    {
      "cell_type": "markdown",
      "source": [
        "### 1. Центральности in (out) хабов \n",
        "\n",
        "Выделите хабы по значению in (out) степени (20 вершин наибольшей степени). Вычислите их центральности, используйте несколько мер центральностей на выбор. Сравните со средними (типичными) значениями в сети, для этого выберите все оставшиеся вершины (или часть вершин случайным образом) и вычислите их среднюю центральность."
      ],
      "metadata": {
        "id": "HhWDOKFMz1NJ"
      }
    },
    {
      "cell_type": "markdown",
      "source": [
        "### 2. Прогнозирование динамической влиятельности\n",
        "\n",
        "* разделите вершины на два класса по значению spreading ability: \"хорошо \" распространяют эпидемию и \"плохо\".\n",
        "\n",
        "*  для выбранных метрик центральности (2-3 разные меры) постройте AUC-ROC кривую и вычислите соответсвующую площадь.\n",
        "\n",
        "* для выбранной гибридной центральности  постройте зависимость площади под AUC-ROC кривой от параметра  σ . Каков оптимальный параметр гибридной центральности? "
      ],
      "metadata": {
        "id": "mLpPhb5W0aa0"
      }
    },
    {
      "cell_type": "code",
      "source": [
        "!gdown --id 1JziO7FuzyDWeUOGUNusHSPdppFodJ670"
      ],
      "metadata": {
        "colab": {
          "base_uri": "https://localhost:8080/"
        },
        "id": "KCvqmg5Iw5tr",
        "outputId": "d7929d4d-9d80-47dd-f709-c0976bf91e42"
      },
      "execution_count": null,
      "outputs": [
        {
          "output_type": "stream",
          "name": "stdout",
          "text": [
            "/usr/local/lib/python3.7/dist-packages/gdown/cli.py:131: FutureWarning: Option `--id` was deprecated in version 4.3.1 and will be removed in 5.0. You don't need to pass it anymore to use a file ID.\n",
            "  category=FutureWarning,\n",
            "Downloading...\n",
            "From: https://drive.google.com/uc?id=1JziO7FuzyDWeUOGUNusHSPdppFodJ670\n",
            "To: /content/spreading_data_wiki-Vote.csv\n",
            "100% 187k/187k [00:00<00:00, 82.0MB/s]\n"
          ]
        }
      ]
    },
    {
      "cell_type": "code",
      "source": [
        "df=pd.read_csv('spreading_data_wiki-Vote.csv')\n",
        "df.head()"
      ],
      "metadata": {
        "colab": {
          "base_uri": "https://localhost:8080/",
          "height": 206
        },
        "id": "dASXRIAr28Vs",
        "outputId": "9e512830-1ea5-40e5-d008-82c03013ecfe"
      },
      "execution_count": null,
      "outputs": [
        {
          "output_type": "execute_result",
          "data": {
            "text/plain": [
              "   node  spreading ability\n",
              "0    30           0.277864\n",
              "1  1412           0.000141\n",
              "2  3352           0.280253\n",
              "3  5254           0.278426\n",
              "4  5543           0.274209"
            ],
            "text/html": [
              "\n",
              "  <div id=\"df-b36592c2-9f57-413d-a0f9-b2f5f4899ce2\">\n",
              "    <div class=\"colab-df-container\">\n",
              "      <div>\n",
              "<style scoped>\n",
              "    .dataframe tbody tr th:only-of-type {\n",
              "        vertical-align: middle;\n",
              "    }\n",
              "\n",
              "    .dataframe tbody tr th {\n",
              "        vertical-align: top;\n",
              "    }\n",
              "\n",
              "    .dataframe thead th {\n",
              "        text-align: right;\n",
              "    }\n",
              "</style>\n",
              "<table border=\"1\" class=\"dataframe\">\n",
              "  <thead>\n",
              "    <tr style=\"text-align: right;\">\n",
              "      <th></th>\n",
              "      <th>node</th>\n",
              "      <th>spreading ability</th>\n",
              "    </tr>\n",
              "  </thead>\n",
              "  <tbody>\n",
              "    <tr>\n",
              "      <th>0</th>\n",
              "      <td>30</td>\n",
              "      <td>0.277864</td>\n",
              "    </tr>\n",
              "    <tr>\n",
              "      <th>1</th>\n",
              "      <td>1412</td>\n",
              "      <td>0.000141</td>\n",
              "    </tr>\n",
              "    <tr>\n",
              "      <th>2</th>\n",
              "      <td>3352</td>\n",
              "      <td>0.280253</td>\n",
              "    </tr>\n",
              "    <tr>\n",
              "      <th>3</th>\n",
              "      <td>5254</td>\n",
              "      <td>0.278426</td>\n",
              "    </tr>\n",
              "    <tr>\n",
              "      <th>4</th>\n",
              "      <td>5543</td>\n",
              "      <td>0.274209</td>\n",
              "    </tr>\n",
              "  </tbody>\n",
              "</table>\n",
              "</div>\n",
              "      <button class=\"colab-df-convert\" onclick=\"convertToInteractive('df-b36592c2-9f57-413d-a0f9-b2f5f4899ce2')\"\n",
              "              title=\"Convert this dataframe to an interactive table.\"\n",
              "              style=\"display:none;\">\n",
              "        \n",
              "  <svg xmlns=\"http://www.w3.org/2000/svg\" height=\"24px\"viewBox=\"0 0 24 24\"\n",
              "       width=\"24px\">\n",
              "    <path d=\"M0 0h24v24H0V0z\" fill=\"none\"/>\n",
              "    <path d=\"M18.56 5.44l.94 2.06.94-2.06 2.06-.94-2.06-.94-.94-2.06-.94 2.06-2.06.94zm-11 1L8.5 8.5l.94-2.06 2.06-.94-2.06-.94L8.5 2.5l-.94 2.06-2.06.94zm10 10l.94 2.06.94-2.06 2.06-.94-2.06-.94-.94-2.06-.94 2.06-2.06.94z\"/><path d=\"M17.41 7.96l-1.37-1.37c-.4-.4-.92-.59-1.43-.59-.52 0-1.04.2-1.43.59L10.3 9.45l-7.72 7.72c-.78.78-.78 2.05 0 2.83L4 21.41c.39.39.9.59 1.41.59.51 0 1.02-.2 1.41-.59l7.78-7.78 2.81-2.81c.8-.78.8-2.07 0-2.86zM5.41 20L4 18.59l7.72-7.72 1.47 1.35L5.41 20z\"/>\n",
              "  </svg>\n",
              "      </button>\n",
              "      \n",
              "  <style>\n",
              "    .colab-df-container {\n",
              "      display:flex;\n",
              "      flex-wrap:wrap;\n",
              "      gap: 12px;\n",
              "    }\n",
              "\n",
              "    .colab-df-convert {\n",
              "      background-color: #E8F0FE;\n",
              "      border: none;\n",
              "      border-radius: 50%;\n",
              "      cursor: pointer;\n",
              "      display: none;\n",
              "      fill: #1967D2;\n",
              "      height: 32px;\n",
              "      padding: 0 0 0 0;\n",
              "      width: 32px;\n",
              "    }\n",
              "\n",
              "    .colab-df-convert:hover {\n",
              "      background-color: #E2EBFA;\n",
              "      box-shadow: 0px 1px 2px rgba(60, 64, 67, 0.3), 0px 1px 3px 1px rgba(60, 64, 67, 0.15);\n",
              "      fill: #174EA6;\n",
              "    }\n",
              "\n",
              "    [theme=dark] .colab-df-convert {\n",
              "      background-color: #3B4455;\n",
              "      fill: #D2E3FC;\n",
              "    }\n",
              "\n",
              "    [theme=dark] .colab-df-convert:hover {\n",
              "      background-color: #434B5C;\n",
              "      box-shadow: 0px 1px 3px 1px rgba(0, 0, 0, 0.15);\n",
              "      filter: drop-shadow(0px 1px 2px rgba(0, 0, 0, 0.3));\n",
              "      fill: #FFFFFF;\n",
              "    }\n",
              "  </style>\n",
              "\n",
              "      <script>\n",
              "        const buttonEl =\n",
              "          document.querySelector('#df-b36592c2-9f57-413d-a0f9-b2f5f4899ce2 button.colab-df-convert');\n",
              "        buttonEl.style.display =\n",
              "          google.colab.kernel.accessAllowed ? 'block' : 'none';\n",
              "\n",
              "        async function convertToInteractive(key) {\n",
              "          const element = document.querySelector('#df-b36592c2-9f57-413d-a0f9-b2f5f4899ce2');\n",
              "          const dataTable =\n",
              "            await google.colab.kernel.invokeFunction('convertToInteractive',\n",
              "                                                     [key], {});\n",
              "          if (!dataTable) return;\n",
              "\n",
              "          const docLinkHtml = 'Like what you see? Visit the ' +\n",
              "            '<a target=\"_blank\" href=https://colab.research.google.com/notebooks/data_table.ipynb>data table notebook</a>'\n",
              "            + ' to learn more about interactive tables.';\n",
              "          element.innerHTML = '';\n",
              "          dataTable['output_type'] = 'display_data';\n",
              "          await google.colab.output.renderOutput(dataTable, element);\n",
              "          const docLink = document.createElement('div');\n",
              "          docLink.innerHTML = docLinkHtml;\n",
              "          element.appendChild(docLink);\n",
              "        }\n",
              "      </script>\n",
              "    </div>\n",
              "  </div>\n",
              "  "
            ]
          },
          "metadata": {},
          "execution_count": 12
        }
      ]
    },
    {
      "cell_type": "code",
      "source": [
        "df.hist('spreading ability', bins=100)"
      ],
      "metadata": {
        "colab": {
          "base_uri": "https://localhost:8080/",
          "height": 316
        },
        "id": "LR7roi9E3CUm",
        "outputId": "ea7f4e18-52de-4c48-9bcb-a226d7984610"
      },
      "execution_count": null,
      "outputs": [
        {
          "output_type": "execute_result",
          "data": {
            "text/plain": [
              "array([[<matplotlib.axes._subplots.AxesSubplot object at 0x7fd565572a50>]],\n",
              "      dtype=object)"
            ]
          },
          "metadata": {},
          "execution_count": 16
        },
        {
          "output_type": "display_data",
          "data": {
            "text/plain": [
              "<Figure size 432x288 with 1 Axes>"
            ],
            "image/png": "[encoded data removed]"
          },
          "metadata": {
            "needs_background": "light"
          }
        }
      ]
    },
    {
      "cell_type": "markdown",
      "source": [
        "## 3. Моделирование направленной сети "
      ],
      "metadata": {
        "id": "0x6iRskQwrKc"
      }
    },
    {
      "cell_type": "markdown",
      "source": [
        "### Модель 1\n",
        "* Рассмотрим модель G(n,m), выполните пункт 1 задания для смоделированной сети, сравните с данными. \n",
        "* Определите среднюю (типичную) центральность вершины в модели из выбранных мер пункта 2.1, сравните с данными. \n",
        "\n"
      ],
      "metadata": {
        "id": "THM-eo5x3VgP"
      }
    },
    {
      "cell_type": "code",
      "source": [
        "randG=nx.gnm_random_graph(G.number_of_nodes(), G.number_of_edges(), directed=True)\n",
        "print('Nodes:',randG.number_of_nodes()) # и выводим основные свойства\n",
        "print('Edges:',randG.number_of_edges())\n",
        "print('Density:',nx.density(randG))\n",
        "print('Reciprocity:', nx.reciprocity(randG))"
      ],
      "metadata": {
        "colab": {
          "base_uri": "https://localhost:8080/"
        },
        "id": "EnZbTNhszx4W",
        "outputId": "5a07a1cf-1f6a-4e67-ec52-14898430d932"
      },
      "execution_count": null,
      "outputs": [
        {
          "output_type": "stream",
          "name": "stdout",
          "text": [
            "Nodes: 7115\n",
            "Edges: 103689\n",
            "Density: 0.0020485375110809584\n",
            "Reciprocity: 0.0019867102585616604\n"
          ]
        }
      ]
    },
    {
      "cell_type": "markdown",
      "source": [
        "### Модель 2 \n",
        "* напишите генератор случайного направленного графа Эрдеша-Реньи с заданными числами одно и двунаправленных связей.\n",
        "\n",
        "* выполните пункт 1 задания для смоделированной сети, сравните с данными. \n",
        "\n",
        "* Определите среднюю (типичную) центральность вершины в модели из выбранных мер пункта 2.1, сравните с данными. \n"
      ],
      "metadata": {
        "id": "pnSCFYSG4FnW"
      }
    },
    {
      "cell_type": "code",
      "source": [],
      "metadata": {
        "id": "EAvE7oIu9sHP"
      },
      "execution_count": null,
      "outputs": []
    }
  ]
}